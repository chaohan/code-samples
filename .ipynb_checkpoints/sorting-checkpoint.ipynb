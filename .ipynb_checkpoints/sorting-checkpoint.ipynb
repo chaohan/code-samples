{
 "metadata": {
  "name": "",
  "signature": "sha256:6322e55d2cb0e792e14aa0dca6dbe4c682609bee93aba4b83aad05827610415c"
 },
 "nbformat": 3,
 "nbformat_minor": 0,
 "worksheets": [
  {
   "cells": [
    {
     "cell_type": "code",
     "collapsed": false,
     "input": [
      "from sorting import *\n",
      "import numpy as np\n",
      "from numpy import *\n",
      "import matplotlib.pyplot as pyplot"
     ],
     "language": "python",
     "metadata": {},
     "outputs": [],
     "prompt_number": 2
    },
    {
     "cell_type": "code",
     "collapsed": false,
     "input": [
      "## to visually check my quicksort works:\n",
      "for j in range(3):\n",
      "    data = np.random.randint(50,size=50)\n",
      "    pyplot.bar(range(len(data)),quicksort(data),width=1);pyplot.show()"
     ],
     "language": "python",
     "metadata": {},
     "outputs": [
      {
       "metadata": {},
       "output_type": "display_data",
       "png": "[encoded data removed]",
       "text": [
        "<matplotlib.figure.Figure at 0x105eb3990>"
       ]
      },
      {
       "metadata": {},
       "output_type": "display_data",
       "png": "[encoded data removed]",
       "text": [
        "<matplotlib.figure.Figure at 0x10601a2d0>"
       ]
      },
      {
       "metadata": {},
       "output_type": "display_data",
       "png": "[encoded data removed]",
       "text": [
        "<matplotlib.figure.Figure at 0x10637b3d0>"
       ]
      }
     ],
     "prompt_number": 3
    },
    {
     "cell_type": "code",
     "collapsed": false,
     "input": [
      "## testing my quicksort against numpy sorting:\n",
      "\n",
      "results = []\n",
      "for j in range(1000):\n",
      "    data = np.random.randint(50,size=50)\n",
      "    results.append(all(quicksort(data) == np.sort(data)))\n",
      "all(results)"
     ],
     "language": "python",
     "metadata": {},
     "outputs": [
      {
       "metadata": {},
       "output_type": "pyout",
       "prompt_number": 4,
       "text": [
        "True"
       ]
      }
     ],
     "prompt_number": 4
    },
    {
     "cell_type": "code",
     "collapsed": false,
     "input": [
      "## to visually check my mergesort works:\n",
      "\n",
      "for j in range(3):\n",
      "    data = np.random.randint(50,size=50)\n",
      "    pyplot.bar(range(len(data)),mergesort(data),width=1);pyplot.show()"
     ],
     "language": "python",
     "metadata": {},
     "outputs": [
      {
       "metadata": {},
       "output_type": "display_data",
       "png": "[encoded data removed]",
       "text": [
        "<matplotlib.figure.Figure at 0x10603de50>"
       ]
      },
      {
       "metadata": {},
       "output_type": "display_data",
       "png": "[encoded data removed]",
       "text": [
        "<matplotlib.figure.Figure at 0x10603dd90>"
       ]
      },
      {
       "metadata": {},
       "output_type": "display_data",
       "png": "[encoded data removed]",
       "text": [
        "<matplotlib.figure.Figure at 0x105e69690>"
       ]
      }
     ],
     "prompt_number": 5
    },
    {
     "cell_type": "code",
     "collapsed": false,
     "input": [
      "## testing my mergesort against numpy sorting:\n",
      "\n",
      "results = []\n",
      "for j in range(1000):\n",
      "    data = np.random.randint(50,size=50)\n",
      "    results.append(all(mergesort(data) == np.sort(data)))\n",
      "all(results)"
     ],
     "language": "python",
     "metadata": {},
     "outputs": [
      {
       "metadata": {},
       "output_type": "pyout",
       "prompt_number": 6,
       "text": [
        "True"
       ]
      }
     ],
     "prompt_number": 6
    },
    {
     "cell_type": "code",
     "collapsed": false,
     "input": [
      "## testing runtimes\n",
      "\n",
      "print 'quicksort runtime:'\n",
      "%timeit quicksort(np.random.randint(10000,size=10000))\n",
      "print 'mergesort runtime:'\n",
      "%timeit mergesort(np.random.randint(10000,size=10000))"
     ],
     "language": "python",
     "metadata": {},
     "outputs": [
      {
       "output_type": "stream",
       "stream": "stdout",
       "text": [
        "quicksort runtime:\n",
        "10 loops, best of 3: 114 ms per loop"
       ]
      },
      {
       "output_type": "stream",
       "stream": "stdout",
       "text": [
        "\n",
        "mergesort runtime:\n",
        "1 loops, best of 3: 147 ms per loop"
       ]
      },
      {
       "output_type": "stream",
       "stream": "stdout",
       "text": [
        "\n"
       ]
      }
     ],
     "prompt_number": 7
    },
    {
     "cell_type": "code",
     "collapsed": false,
     "input": [],
     "language": "python",
     "metadata": {},
     "outputs": []
    }
   ],
   "metadata": {}
  }
 ]
}