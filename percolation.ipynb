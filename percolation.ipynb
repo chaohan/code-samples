{
 "metadata": {
  "name": "",
  "signature": "sha256:07dec41865e1c4ad791c74e7bd0bb6405a62629ddf20c96a93395dc50ee62b79"
 },
 "nbformat": 3,
 "nbformat_minor": 0,
 "worksheets": [
  {
   "cells": [
    {
     "cell_type": "code",
     "collapsed": false,
     "input": [
      "from percolation import *\n",
      "\n",
      "# creating a system\n",
      "M1 = M(0.58,20)\n",
      "\n",
      "# union all sites that are connected to top open sites\n",
      "M1 = union(M1)\n",
      "\n",
      "# red is full sites, title shows whether percolation occurs\n",
      "plot(M1)"
     ],
     "language": "python",
     "metadata": {},
     "outputs": [
      {
       "metadata": {},
       "output_type": "display_data",
       "png": "[encoded data removed]",
       "text": [
        "<matplotlib.figure.Figure at 0x105ea3d90>"
       ]
      }
     ],
     "prompt_number": 2
    },
    {
     "cell_type": "code",
     "collapsed": false,
     "input": [],
     "language": "python",
     "metadata": {},
     "outputs": []
    }
   ],
   "metadata": {}
  }
 ]
}